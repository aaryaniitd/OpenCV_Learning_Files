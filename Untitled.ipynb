{
 "cells": [
  {
   "cell_type": "code",
   "execution_count": 1,
   "id": "c9d07671",
   "metadata": {},
   "outputs": [
    {
     "name": "stdout",
     "output_type": "stream",
     "text": [
      "Collecting opencv-contrib-python\n",
      "  Downloading opencv_contrib_python-4.6.0.66-cp36-abi3-win_amd64.whl (42.5 MB)\n",
      "     ---------------------------------------- 42.5/42.5 MB 4.8 MB/s eta 0:00:00\n",
      "Requirement already satisfied: numpy>=1.19.3 in c:\\python\\python39\\lib\\site-packages (from opencv-contrib-python) (1.21.2)\n",
      "Installing collected packages: opencv-contrib-python\n",
      "Successfully installed opencv-contrib-python-4.6.0.66\n"
     ]
    },
    {
     "name": "stderr",
     "output_type": "stream",
     "text": [
      "WARNING: You are using pip version 22.0.4; however, version 22.1.2 is available.\n",
      "You should consider upgrading via the 'c:\\python\\python39\\python.exe -m pip install --upgrade pip' command.\n"
     ]
    }
   ],
   "source": [
    "!pip install opencv-contrib-python"
   ]
  },
  {
   "cell_type": "code",
   "execution_count": 2,
   "id": "cc9c2763",
   "metadata": {},
   "outputs": [
    {
     "name": "stdout",
     "output_type": "stream",
     "text": [
      "Collecting caer\n",
      "  Downloading caer-2.0.8-py3-none-any.whl (809 kB)\n",
      "     -------------------------------------- 809.5/809.5 KB 5.7 MB/s eta 0:00:00\n",
      "Requirement already satisfied: typing-extensions in c:\\python\\python39\\lib\\site-packages (from caer) (4.0.1)\n",
      "Requirement already satisfied: opencv-contrib-python in c:\\python\\python39\\lib\\site-packages (from caer) (4.6.0.66)\n",
      "Requirement already satisfied: numpy in c:\\python\\python39\\lib\\site-packages (from caer) (1.21.2)\n",
      "Collecting mypy\n",
      "  Downloading mypy-0.961-cp39-cp39-win_amd64.whl (8.8 MB)\n",
      "     ---------------------------------------- 8.8/8.8 MB 7.1 MB/s eta 0:00:00\n",
      "Collecting tomli>=1.1.0\n",
      "  Downloading tomli-2.0.1-py3-none-any.whl (12 kB)\n",
      "Collecting mypy-extensions>=0.4.3\n",
      "  Downloading mypy_extensions-0.4.3-py2.py3-none-any.whl (4.5 kB)\n",
      "Installing collected packages: mypy-extensions, tomli, mypy, caer\n",
      "Successfully installed caer-2.0.8 mypy-0.961 mypy-extensions-0.4.3 tomli-2.0.1\n"
     ]
    },
    {
     "name": "stderr",
     "output_type": "stream",
     "text": [
      "WARNING: You are using pip version 22.0.4; however, version 22.1.2 is available.\n",
      "You should consider upgrading via the 'c:\\python\\python39\\python.exe -m pip install --upgrade pip' command.\n"
     ]
    }
   ],
   "source": [
    "!pip install caer"
   ]
  },
  {
   "cell_type": "markdown",
   "id": "a80a9874",
   "metadata": {},
   "source": [
    "Caer is used to increase speed in computer vision applications"
   ]
  },
  {
   "cell_type": "code",
   "execution_count": 15,
   "id": "f3777ee4",
   "metadata": {},
   "outputs": [],
   "source": [
    "import cv2\n",
    "import matplotlib.pyplot as plt"
   ]
  },
  {
   "cell_type": "code",
   "execution_count": 23,
   "id": "d14d6d09",
   "metadata": {},
   "outputs": [],
   "source": [
    "img = cv2.imread('C:\\\\Coding\\\\ML Practice\\\\CV2 practise\\\\photos\\\\ney.png') #reads the image\n",
    "cv2.imshow('N',img) # shows the image with a certain title\n",
    "\n",
    "# cv2.waitKey(2) #waits for a keyboard key to be pressed"
   ]
  },
  {
   "cell_type": "code",
   "execution_count": null,
   "id": "d1888fd7",
   "metadata": {},
   "outputs": [],
   "source": []
  }
 ],
 "metadata": {
  "kernelspec": {
   "display_name": "Python 3 (ipykernel)",
   "language": "python",
   "name": "python3"
  },
  "language_info": {
   "codemirror_mode": {
    "name": "ipython",
    "version": 3
   },
   "file_extension": ".py",
   "mimetype": "text/x-python",
   "name": "python",
   "nbconvert_exporter": "python",
   "pygments_lexer": "ipython3",
   "version": "3.9.6"
  }
 },
 "nbformat": 4,
 "nbformat_minor": 5
}
